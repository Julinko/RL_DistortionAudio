{
 "cells": [
  {
   "cell_type": "markdown",
   "metadata": {},
   "source": [
    "# Q-Learning für Verzerrer-Parameteroptimierung\n",
    "\n",
    "In diesem Jupyter-Notebook verwenden wir Q-Learning, um die optimalen Parameter für einen Verzerrer zu finden. Der Code ist in verschiedene Sektionen unterteilt:\n",
    "\n",
    "**1. Einrichtung und Initialisierung**\n",
    "- **Bibliotheken**: Import von notwendigen Bibliotheken wie `numpy` und `scipy`.\n",
    "\n",
    "**2. DistortionParameters-Klasse**\n",
    "- **Zweck**: Repräsentiert die Parameter des Verzerrers: `Gain`, `Tone` und `Level`.\n",
    "- **Methoden**: Zum Setzen und Abrufen dieser Parameter.\n",
    "\n",
    "**3. Environment-Klasse: Verzerrer und Signal**\n",
    "- **Signal**: Generiert ein Sinussignal und verarbeitet es mit dem Verzerrer.\n",
    "- **Verarbeitung**: Methoden wie `_apply_gain`, `_apply_tone` und `_apply_level`.\n",
    "\n",
    "**4. Q-Learning-Agent-Klasse**\n",
    "- **Algorithmus**: Implementiert den Q-Learning-Algorithmus.\n",
    "- **Q-Tabelle**: Wird zum Lernen der besten Aktionen (Parameter) verwendet.\n",
    "- **Methoden**: Zum Wählen von Aktionen und Aktualisieren der Q-Tabelle.\n",
    "\n",
    "**5. Training**\n",
    "- **Prozess**: Trainiert den Q-Learning-Agenten über mehrere Episoden.\n",
    "- **Belohnung**: In jeder Episode wird das Signal verarbeitet und eine Belohnung basierend auf dem Unterschied zum Ziel-Ausgangssignal berechnet.\n",
    "\n",
    "**6. Ergebnisse**\n",
    "- **Ausgabe**: Zeigt die gelernten optimalen Parameter nach dem Training.\n"
   ]
  },
  {
   "cell_type": "markdown",
   "metadata": {},
   "source": [
    "### **Sektion 1: Einrichtung und Initialisierung**"
   ]
  },
  {
   "cell_type": "code",
   "execution_count": 1,
   "metadata": {},
   "outputs": [
    {
     "name": "stdout",
     "output_type": "stream",
     "text": [
      "Requirement already satisfied: scikit-learn in ./.venv/lib/python3.10/site-packages (1.3.1)\n",
      "Requirement already satisfied: scipy>=1.5.0 in ./.venv/lib/python3.10/site-packages (from scikit-learn) (1.11.3)\n",
      "Requirement already satisfied: numpy<2.0,>=1.17.3 in ./.venv/lib/python3.10/site-packages (from scikit-learn) (1.26.0)\n",
      "Requirement already satisfied: threadpoolctl>=2.0.0 in ./.venv/lib/python3.10/site-packages (from scikit-learn) (3.2.0)\n",
      "Requirement already satisfied: joblib>=1.1.1 in ./.venv/lib/python3.10/site-packages (from scikit-learn) (1.3.2)\n"
     ]
    }
   ],
   "source": [
    "# Libraries\n",
    "import numpy as np\n",
    "import matplotlib.pyplot as plt\n",
    "from IPython.display import Audio\n",
    "from scipy.signal import butter, lfilter\n",
    "from numpy.fft import fft\n",
    "\n",
    "# Addons\n",
    "from sklearn.model_selection import KFold\n",
    "import scipy\n",
    "import random\n",
    "from collections import deque"
   ]
  },
  {
   "cell_type": "markdown",
   "metadata": {},
   "source": [
    "### **Sektion 2: DistortionParameters-Klasse**\n"
   ]
  },
  {
   "cell_type": "code",
   "execution_count": 2,
   "metadata": {},
   "outputs": [],
   "source": [
    "\n",
    "class DistortionParameters:\n",
    "    def __init__(self, gain=0.5, tone=0.5, level=0.5):\n",
    "        self.gain = gain\n",
    "        self.tone = tone\n",
    "        self.level = level\n",
    "    \n",
    "    def set_parameters(self, gain, tone, level):\n",
    "        self.gain = gain\n",
    "        self.tone = tone\n",
    "        self.level = level\n",
    "        \n",
    "    def get_parameters(self):\n",
    "        return self.gain, self.tone, self.level"
   ]
  },
  {
   "cell_type": "markdown",
   "metadata": {},
   "source": [
    "### **Sektion 3: Environment-Klasse: Verzerrer und Signal**"
   ]
  },
  {
   "cell_type": "code",
   "execution_count": 3,
   "metadata": {},
   "outputs": [],
   "source": [
    "class DistortionEnvironment:\n",
    "    def __init__(self, params):\n",
    "        self.params = params\n",
    "        self.signal = self._generate_signal()\n",
    "        self.target_signal = self.process(self.signal)\n",
    "    \n",
    "    def _generate_signal(self):\n",
    "        t = np.linspace(0, 1, 44100)\n",
    "        return np.sin(2 * np.pi * 440 * t)\n",
    "    \n",
    "    def process(self, signal):\n",
    "        return self._apply_level(self._apply_tone(self._apply_gain(signal, self.params.gain), self.params.tone), self.params.level)\n",
    "    \n",
    "    def _apply_gain(self, signal, gain):\n",
    "        return np.clip(signal * gain, -1, 1)\n",
    "    \n",
    "    def _apply_tone(self, signal, tone):\n",
    "        nyq = 0.5 * 44100\n",
    "        low = 300\n",
    "        high = 6000\n",
    "        cutoff = low + (high - low) * tone\n",
    "        b, a = butter(1, cutoff / nyq, btype='low')\n",
    "        return lfilter(b, a, signal)\n",
    "    \n",
    "    def _apply_level(self, signal, level):\n",
    "        return signal * level"
   ]
  },
  {
   "cell_type": "markdown",
   "metadata": {},
   "source": [
    "### **4. Q-Learning-Agent-Klasse**"
   ]
  },
  {
   "cell_type": "code",
   "execution_count": 4,
   "metadata": {},
   "outputs": [],
   "source": [
    "# ToDo: Parameter vll. mit CrossValidation? Bzw. Recherche was\n",
    "class QLearningAgent:\n",
    "    def __init__(self, alpha=0.1, gamma=0.9, epsilon=0.2):\n",
    "        self.alpha = alpha\n",
    "        self.gamma = gamma\n",
    "        self.epsilon = epsilon\n",
    "        self.q_table = np.zeros((11, 11, 11))\n",
    "    \n",
    "    def choose_action(self):\n",
    "        if np.random.uniform(0, 1) < self.epsilon:\n",
    "            return np.random.rand(3)  # Random Action\n",
    "        else:\n",
    "            indices = np.unravel_index(np.argmax(self.q_table, axis=None), self.q_table.shape)  # Greedy Action\n",
    "            return indices[0] / 10, indices[1] / 10, indices[2] / 10\n",
    "    \n",
    "    def update(self, state, next_state, reward):\n",
    "        future_value = np.max(self.q_table[tuple((np.array(next_state) * 10).astype(int))])\n",
    "        index = tuple((np.array(state) * 10).astype(int))\n",
    "        self.q_table[index] = (\n",
    "            self.q_table[index] + \n",
    "            self.alpha * (reward + self.gamma * future_value - self.q_table[index])\n",
    "        )\n"
   ]
  },
  {
   "cell_type": "markdown",
   "metadata": {},
   "source": [
    "### **Helper Functions**\n",
    "\n",
    "In diesem Abschnitt werden Hilfsfunktionen definiert, die im weiteren Verlauf des Notebooks verwendet werden:\n",
    "\n",
    "1. **`moving_average`**:\n",
    "    - **Zweck**: Berechnet den gleitenden Durchschnitt einer gegebenen Datenreihe.\n",
    "    - **Parameter**:\n",
    "        - `values`: Die Datenreihe.\n",
    "        - `window`: Die Größe des Fensters für den gleitenden Durchschnitt.\n",
    "    - **Rückgabewert**: Eine Liste der gleitenden Durchschnittswerte.\n",
    "</br></br>\n",
    "\n",
    "2. **`compute_snr`**:\n",
    "    - **Zweck**: Berechnet das Signal-Rausch-Verhältnis (SNR) zwischen einem Signal und einem Referenzsignal.\n",
    "    - **Parameter**:\n",
    "        - `signal`: Das zu bewertende Signal.\n",
    "        - `reference`: Das Referenzsignal.\n",
    "    - **Rückgabewert**: Das berechnete SNR.\n",
    "</br></br>\n",
    "\n",
    "3. **`reward_function`**:\n",
    "    - **Zweck**: Berechnet die Belohnung basierend auf dem Unterschied zwischen dem Ausgangssignal und dem Ziel-Audiosignal. Die Funktion berücksichtigt sowohl den Fehler im Frequenzbereich als auch das SNR.\n",
    "    - **Parameter**:\n",
    "        - `output_signal`: Das Ausgangssignal des Verzerrers.\n",
    "        - `target_signal`: Das Ziel-Audiosignal.\n",
    "    - **Rückgabewert**: Ein Wert, der die Belohnung (oder den negativen Fehler) repräsentiert.\n",
    "</br></br>\n"
   ]
  },
  {
   "cell_type": "code",
   "execution_count": 5,
   "metadata": {},
   "outputs": [],
   "source": [
    "def moving_average(values, window):\n",
    "    # Berechnet den gleitenden Durchschnitt\n",
    "    return np.convolve(values, np.ones(window)/window, mode='valid')\n",
    "\n",
    "def compute_snr(signal, reference):\n",
    "    error = signal - reference\n",
    "    signal_power = np.mean(signal**2)\n",
    "    error_power = np.mean(error**2)\n",
    "    \n",
    "    # Überprüfen, ob der Fehler null ist\n",
    "    if error_power == 0:\n",
    "        return float('inf')\n",
    "    return 10 * np.log10(signal_power / error_power)\n",
    "\n",
    "def reward_function(output_signal, target_signal):\n",
    "    # Transform both signals into the frequency domain\n",
    "    output_freq = fft(output_signal)\n",
    "    target_freq = fft(target_signal)\n",
    "    \n",
    "    # Calculate the error in the frequency domain\n",
    "    freq_error = np.abs(output_freq - target_freq)\n",
    "    \n",
    "    # Weight the error by frequency (for simplicity, this example uses linear weighting)\n",
    "    weighted_error = freq_error * np.linspace(1, 2, len(freq_error))\n",
    "    \n",
    "    # Compute the SNR\n",
    "    snr = compute_snr(output_signal, target_signal)\n",
    "    \n",
    "    # Combine the weighted error and SNR (you can adjust the weighting factor)\n",
    "    combined_error = np.mean(weighted_error) - 0.01 * snr\n",
    "    \n",
    "    # Überprüfen, ob der kombinierte Fehler gültig ist\n",
    "    if np.isnan(combined_error) or np.isinf(combined_error):\n",
    "        return -np.mean(weighted_error)  # Verwenden Sie nur den gewichteten Fehler als Belohnung\n",
    "    \n",
    "    return -combined_error\n",
    "\n"
   ]
  },
  {
   "cell_type": "markdown",
   "metadata": {},
   "source": [
    "### **Sektion 5: Training**"
   ]
  },
  {
   "cell_type": "code",
   "execution_count": 6,
   "metadata": {},
   "outputs": [
    {
     "name": "stdout",
     "output_type": "stream",
     "text": [
      "Randomized:\n",
      "gain : 0.8\n",
      "tone : 0.3\n",
      "level : 0.7\n",
      "Episode 100/1000, Average Reward (last 100 episodes): -1.060\n"
     ]
    },
    {
     "name": "stderr",
     "output_type": "stream",
     "text": [
      "/tmp/ipykernel_24600/1307526012.py:13: RuntimeWarning: divide by zero encountered in log10\n",
      "  return 10 * np.log10(signal_power / error_power)\n"
     ]
    },
    {
     "name": "stdout",
     "output_type": "stream",
     "text": [
      "Episode 200/1000, Average Reward (last 100 episodes): -1.037\n",
      "Episode 300/1000, Average Reward (last 100 episodes): -1.090\n",
      "Episode 400/1000, Average Reward (last 100 episodes): -1.107\n",
      "Episode 500/1000, Average Reward (last 100 episodes): -1.086\n",
      "Episode 600/1000, Average Reward (last 100 episodes): -0.986\n",
      "Episode 700/1000, Average Reward (last 100 episodes): -1.001\n",
      "Episode 800/1000, Average Reward (last 100 episodes): -0.961\n",
      "Episode 900/1000, Average Reward (last 100 episodes): -0.851\n",
      "Episode 1000/1000, Average Reward (last 100 episodes): -0.916\n"
     ]
    },
    {
     "data": {
      "image/png": "[encoded data removed]",
      "text/plain": [
       "<Figure size 1000x500 with 1 Axes>"
      ]
     },
     "metadata": {},
     "output_type": "display_data"
    }
   ],
   "source": [
    "params = DistortionParameters(round(np.random.rand(), 1), round(np.random.rand(), 1), round(np.random.rand(), 1))\n",
    "env = DistortionEnvironment(params)\n",
    "agent = QLearningAgent(alpha=0.1, gamma=0.9, epsilon=0.2)\n",
    "rewards = []\n",
    "epochs = 1000\n",
    "\n",
    "# Print random gains\n",
    "print(\"Randomized:\")\n",
    "for key, value in vars(params).items():\n",
    "    print(key, \":\", value)\n",
    "\n",
    "print_interval = 100  # Status alle 100 Episoden drucken\n",
    "\n",
    "# Stoppkriterium\n",
    "convergence_threshold = 0.01  # Minimale Änderung der durchschnittlichen Belohnung\n",
    "convergence_window = 5000  # Anzahl der Episoden, über die die Konvergenz überprüft wird\n",
    "\n",
    "# Prozess\n",
    "for episode in range(epochs):\n",
    "    current_state = [params.gain, params.tone, params.level]\n",
    "    action = agent.choose_action()\n",
    "    params.set_parameters(*action)\n",
    "    output_signal = env.process(env.signal)\n",
    "    reward = reward_function(output_signal, env.target_signal)\n",
    "    rewards.append(reward)\n",
    "    next_state = [params.gain, params.tone, params.level]  # Nachdem die Aktion angewendet wurde\n",
    "    agent.update(current_state, next_state, reward)\n",
    "    \n",
    "    # Status drucken\n",
    "    if (episode + 1) % print_interval == 0:\n",
    "        avg_reward_last_n = np.mean(rewards[-print_interval:])\n",
    "        print(f\"Episode {episode + 1}/{epochs}, Average Reward (last {print_interval} episodes): {avg_reward_last_n:.3f}\")\n",
    "\n",
    "    # Überprüfen Sie die Konvergenz alle 'convergence_window' Episoden\n",
    "    if (episode + 1) % convergence_window == 0:\n",
    "        avg_reward_last_n = np.mean(rewards[-convergence_window:])\n",
    "        avg_reward_prev_n = np.mean(rewards[-2*convergence_window:-convergence_window])\n",
    "        \n",
    "        if abs(avg_reward_last_n - avg_reward_prev_n) < convergence_threshold:\n",
    "            print(f\"Convergence achieved at episode {episode + 1}. Stopping training.\")\n",
    "            break\n",
    "\n",
    "# Plot\n",
    "window_size = 100\n",
    "avg_rewards = moving_average(rewards, window_size)\n",
    "\n",
    "plt.figure(figsize=(10,5))\n",
    "plt.plot(avg_rewards)\n",
    "plt.xlabel('Episode')\n",
    "plt.ylabel('Average Reward')\n",
    "plt.title(f'Average Reward over {window_size} Episodes')\n",
    "plt.grid(True)\n",
    "plt.show()\n"
   ]
  },
  {
   "cell_type": "markdown",
   "metadata": {},
   "source": [
    "### **Sektion 6: Ergebnisse**"
   ]
  },
  {
   "cell_type": "code",
   "execution_count": 7,
   "metadata": {},
   "outputs": [
    {
     "name": "stdout",
     "output_type": "stream",
     "text": [
      "Echte Parameter - Gain: 0.4 Tone: 0.0 Level: 0.4\n",
      "Gelernte Parameter - Gain: 0.4 Tone: 0.0 Level: 0.4\n"
     ]
    }
   ],
   "source": [
    "optimal_indices = np.unravel_index(np.argmax(agent.q_table, axis=None), agent.q_table.shape)\n",
    "optimal_params = DistortionParameters(optimal_indices[0] / 10, optimal_indices[1] / 10, optimal_indices[2] / 10)\n",
    "\n",
    "print(\"Echte Parameter - Gain:\", params.gain, \"Tone:\", params.tone, \"Level:\", params.level)\n",
    "print(\"Gelernte Parameter - Gain:\", optimal_params.gain, \"Tone:\", optimal_params.tone, \"Level:\", optimal_params.level)\n"
   ]
  }
 ],
 "metadata": {
  "kernelspec": {
   "display_name": ".venv",
   "language": "python",
   "name": "python3"
  },
  "language_info": {
   "codemirror_mode": {
    "name": "ipython",
    "version": 3
   },
   "file_extension": ".py",
   "mimetype": "text/x-python",
   "name": "python",
   "nbconvert_exporter": "python",
   "pygments_lexer": "ipython3",
   "version": "3.10.12"
  },
  "orig_nbformat": 4
 },
 "nbformat": 4,
 "nbformat_minor": 2
}
